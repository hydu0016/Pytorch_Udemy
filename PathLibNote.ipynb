{
  "nbformat": 4,
  "nbformat_minor": 0,
  "metadata": {
    "colab": {
      "provenance": [],
      "authorship_tag": "ABX9TyNjcyzh6Wr7rdaHUTBbL79m",
      "include_colab_link": true
    },
    "kernelspec": {
      "name": "python3",
      "display_name": "Python 3"
    },
    "language_info": {
      "name": "python"
    }
  },
  "cells": [
    {
      "cell_type": "markdown",
      "metadata": {
        "id": "view-in-github",
        "colab_type": "text"
      },
      "source": [
        "<a href=\"https://colab.research.google.com/github/hydu0016/Pytorch_Udemy/blob/main/PathLibNote.ipynb\" target=\"_parent\"><img src=\"https://colab.research.google.com/assets/colab-badge.svg\" alt=\"Open In Colab\"/></a>"
      ]
    },
    {
      "cell_type": "code",
      "execution_count": null,
      "metadata": {
        "id": "weqDIqp7NkIM"
      },
      "outputs": [],
      "source": [
        "from pathlib import Path\n"
      ]
    },
    {
      "cell_type": "markdown",
      "source": [
        "Get the home directory  \n",
        "Get the path to the current working directory"
      ],
      "metadata": {
        "id": "JxZ-haZgNvQq"
      }
    },
    {
      "cell_type": "code",
      "source": [
        "#home directory\n",
        "home_dir=Path.home()\n",
        "#current working directory\n",
        "cwd=Path.cwd()"
      ],
      "metadata": {
        "id": "Jpuq2JzPNuU7"
      },
      "execution_count": null,
      "outputs": []
    },
    {
      "cell_type": "markdown",
      "source": [
        "Create a Path  \n"
      ],
      "metadata": {
        "id": "efuoWH-oOEPe"
      }
    },
    {
      "cell_type": "code",
      "source": [
        "path01=Path(\"data/\")#不能使用path01=\"data\",此时path01就是一个字符串，无法使用is_dir和mkdir函数\n",
        "if path01.is_dir():\n",
        "   print(f\"{path01} directory exists.\")\n",
        "else:\n",
        "  path01.mkdir(parents=True, exist_ok=True) #exist_ok=True:to ignore 'FileExistsError' if the target directory already exists"
      ],
      "metadata": {
        "id": "i_d2aqTxOB5w"
      },
      "execution_count": null,
      "outputs": []
    },
    {
      "cell_type": "code",
      "source": [
        "path02=path01/\"train_data\"\n",
        "path02.mkdir(parents=True, exist_ok=True)"
      ],
      "metadata": {
        "id": "A4NM068dPekF"
      },
      "execution_count": null,
      "outputs": []
    },
    {
      "cell_type": "markdown",
      "source": [
        "Check if a directory/file exist"
      ],
      "metadata": {
        "id": "pCHMCuyIis_c"
      }
    },
    {
      "cell_type": "code",
      "source": [
        "#zip_file_path.is_dir():\n",
        "#zip_file_path.is_file():"
      ],
      "metadata": {
        "id": "zIe4A39ciua4"
      },
      "execution_count": null,
      "outputs": []
    },
    {
      "cell_type": "markdown",
      "source": [
        "Get the parent forder path"
      ],
      "metadata": {
        "id": "NDPH6mRRP19r"
      }
    },
    {
      "cell_type": "code",
      "source": [
        "Parent_path=path02.parent\n",
        "Parent_path"
      ],
      "metadata": {
        "colab": {
          "base_uri": "https://localhost:8080/"
        },
        "id": "4TwrF_K9P1VE",
        "outputId": "51935d59-5ba4-4980-8493-e17c357b29ed"
      },
      "execution_count": null,
      "outputs": [
        {
          "output_type": "execute_result",
          "data": {
            "text/plain": [
              "PosixPath('data')"
            ]
          },
          "metadata": {},
          "execution_count": 8
        }
      ]
    },
    {
      "cell_type": "markdown",
      "source": [
        "Get the file name  \n",
        "Get the file name without extension"
      ],
      "metadata": {
        "id": "NVWs0lzDReAT"
      }
    },
    {
      "cell_type": "code",
      "source": [
        "path02_name=path02.name\n",
        "path02_name_withoutExtension=path02.stem\n",
        "path02_name_withExtension=path02.suffix\n",
        "\n",
        "print(f\"{path02_name},{path02_name_withoutExtension},{path02_name_withExtension}\")"
      ],
      "metadata": {
        "colab": {
          "base_uri": "https://localhost:8080/"
        },
        "id": "PU37I3nYRdoR",
        "outputId": "adb10958-924b-49b8-8931-baa61fbb3f3d"
      },
      "execution_count": null,
      "outputs": [
        {
          "output_type": "stream",
          "name": "stdout",
          "text": [
            "train_data,train_data,\n"
          ]
        }
      ]
    },
    {
      "cell_type": "markdown",
      "source": [
        "Iterate over files in a directory"
      ],
      "metadata": {
        "id": "_o_Yp63BTev5"
      }
    },
    {
      "cell_type": "code",
      "source": [
        "for file in path01.iterdir():\n",
        "  #if file.suffix == \".xlsx\":\n",
        "  print(file)"
      ],
      "metadata": {
        "colab": {
          "base_uri": "https://localhost:8080/"
        },
        "id": "2Imf9YiNTkK7",
        "outputId": "a359ba88-334d-4df7-8e0d-6cf019ca02f3"
      },
      "execution_count": null,
      "outputs": [
        {
          "output_type": "stream",
          "name": "stdout",
          "text": [
            "data/train_data\n"
          ]
        }
      ]
    },
    {
      "cell_type": "markdown",
      "source": [
        "Get files with specific extension\n",
        "\n",
        "为什么使用*/*/*.jpg：\n",
        "For example, if image_path is /images, the pattern \"*/*/*.jpg\" would match:\n",
        "\n",
        "/images/album1/photo1.jpg\n",
        "/images/album2/vacation/photo2.jpg\n",
        "/images/album3/event/photo3.jpg\n",
        "But it would not match:\n",
        "\n",
        "/images/photo4.jpg (because this is directly under /images, not two levels deep)\n",
        "/images/album4/photo5.png (because this is not a .jpg file)"
      ],
      "metadata": {
        "id": "2PqE6BO1VIaW"
      }
    },
    {
      "cell_type": "code",
      "source": [
        "image_path_list = list(path02.glob(\"*/*/*.jpg\"))  #glob return a list"
      ],
      "metadata": {
        "id": "TP9S9aTxVXhp"
      },
      "execution_count": null,
      "outputs": []
    },
    {
      "cell_type": "markdown",
      "source": [
        "Write / Read operations"
      ],
      "metadata": {
        "id": "c-xGvgU6aGeT"
      }
    },
    {
      "cell_type": "markdown",
      "source": [
        "Write parameters:  \n",
        "mode (str): The mode in which the file is opened. It is a string that specifies the mode. Common modes include:\n",
        "\n",
        "'r': open for reading (default)  \n",
        "\n",
        "'w': open for writing, truncating the file first  \n",
        "\n",
        "'x': open for exclusive creation, failing if the file already exists  \n",
        "\n",
        "'a': open for writing, appending to the file if it exists  \n",
        "\n",
        "'b': binary mode(image)  \n",
        "\n",
        "'t': text mode (default)  \n",
        "\n",
        "'+': open for updating (reading and writing)  \n",
        "\n",
        "You can combine modes, like 'rb' for reading in binary mode, or 'w+' for writing and updating in text mode."
      ],
      "metadata": {
        "id": "aksy1ELwd1P9"
      }
    },
    {
      "cell_type": "code",
      "source": [
        "#Version01: 使用pathlib\n",
        "import requests\n",
        "request = requests.get(\"https://github.com/mrdbourke/pytorch-deep-learning/raw/main/data/pizza_steak_sushi.zip\")\n",
        "\n",
        "#必须用with，这样可以使文件写入后及时关闭\n",
        "with (path01 / \"pizza_steak_sushi.zip\").open(\"wb\") as f:   #open: open a file or create a file if it does not exist\n",
        "    f.write(request.content)"
      ],
      "metadata": {
        "id": "AyxxvekebHZJ"
      },
      "execution_count": null,
      "outputs": []
    },
    {
      "cell_type": "code",
      "source": [
        "#Version2：使用python原生方法 open()\n",
        "with open(path01 / \"pizza_steak_sushi.zip\",\"wb\") as f:\n",
        "  f.write(request.content)"
      ],
      "metadata": {
        "id": "2j2B-I-UdN4X"
      },
      "execution_count": null,
      "outputs": []
    },
    {
      "cell_type": "markdown",
      "source": [
        "Example: matplotlib展示图片"
      ],
      "metadata": {
        "id": "DNTFjLbKUvq7"
      }
    },
    {
      "cell_type": "code",
      "source": [
        "from PIL import Image\n",
        "import random\n",
        "import matplotlib.pyplot as plt\n",
        "import numpy as np\n",
        "\n",
        "random.seed(42)\n",
        "\n",
        "image_path_list=list(image_path.glob(\"*/*/*.jpg\"))\n",
        "\n",
        "random_image_path=random.choice(image_path_list)\n",
        "\n",
        "image_class=random_image_path.parent.stem\n",
        "\n",
        "img=Image.open(random_image_path)\n",
        "\n",
        "img_as_array = np.asarray(img)\n",
        "\n",
        "plt.figure(figsize=(6,6))\n",
        "plt.imshow(img_as_array)\n",
        "plt.title(image_class)"
      ],
      "metadata": {
        "id": "tbb0jM_6U2Yt"
      },
      "execution_count": null,
      "outputs": []
    }
  ]
}